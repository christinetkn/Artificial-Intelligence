{
 "cells": [
  {
   "cell_type": "markdown",
   "metadata": {
    "id": "tMj-Z7EHU7aT"
   },
   "source": [
    "##Τεχνητή Νοημοσύνη: Εργαστηριακή Άσκηση 3\n",
    "###Μαυραειδή Λυδία ΑΜ:03117181\n",
    "###Τσακανίκα Χριστίνα ΑΜ:03117012"
   ]
  },
  {
   "cell_type": "markdown",
   "metadata": {
    "id": "W2U8JPk5Vdof"
   },
   "source": [
    "##**1ο** Μέρος: Αξιολόγηση\n"
   ]
  },
  {
   "cell_type": "code",
   "execution_count": null,
   "metadata": {
    "id": "OTIJvhZ_VBXu"
   },
   "outputs": [],
   "source": [
    "from sklearn.metrics import confusion_matrix, f1_score, precision_score, recall_score\n",
    "from matplotlib import pyplot as plt\n",
    "import numpy as np\n",
    "import random\n",
    "\n",
    "class Evaluate:\n",
    "    def __init__(self,y_true,y_pred,x):\n",
    "      self.y_true = y_true\n",
    "      self.y_pred = y_pred\n",
    "      self.x = x\n",
    "\n",
    "    def my_accuracy(self):\n",
    "      y_true = self.y_true\n",
    "      y_pred = self.y_pred\n",
    "      \n",
    "      right_predictions = 0 #number of right predictions\n",
    "      for i in range(len(y_true)):\n",
    "        if y_true[i] == y_pred[i]:\n",
    "          right_predictions += 1\n",
    "      \n",
    "      acc=right_predictions / len(y_true)\n",
    "      \n",
    "      return acc\n",
    "\n",
    "    def get_metrics(self):\n",
    "        precision = precision_score(self.y_true, self.y_pred, average = \"macro\")\n",
    "        recall = recall_score(self.y_true, self.y_pred, average = \"macro\")\n",
    "        f1 = f1_score(self.y_true, self.y_pred, average = \"macro\")\n",
    "        results = {\"precision\" : precision, \"recall\": recall, \"f1\": f1,\"accuracy\":self.my_accuracy()}\n",
    "        return results   \n",
    "    \n",
    "    def confusion_matrix(self):\n",
    "        cm = confusion_matrix(self.y_true, self.y_pred)\n",
    "        return cm \n",
    "\n",
    "    def get_sample_of_wrong(self, rows = 5, lines = 4):\n",
    "        wrong_indexes = [index for index in range(len(self.y_true)) if self.y_true[index] != self.y_pred[index]]\n",
    "        plt.figure(figsize=(10, 10))\n",
    "\n",
    "        #Shuffle a list (reorganize the order of the list items)\n",
    "        random.shuffle(wrong_indexes)\n",
    "        for i, index in enumerate(wrong_indexes[: rows*lines]):\n",
    "            plt.subplot(rows, lines, i + 1)\n",
    "            image = self.x[index]\n",
    "            plt.imshow(image.reshape((28, 28)))\n",
    "            plt.title(\"Real: {}, Pred: {}\".format(self.y_true[index], self.y_pred[index]))\n",
    "            plt.axis('off')\n",
    "\n",
    "    def get_evaluation_report(self):\n",
    "       metrics = self.get_metrics()\n",
    "       for m in metrics:\n",
    "         print(m+' : '+str(metrics[m]))\n",
    "       cm = self.confusion_matrix()\n",
    "       print(\"Confusion matrix: \")\n",
    "       print(cm)\n",
    "       print(\"Some images with wrong predictions\")\n",
    "       self.get_sample_of_wrong()"
   ]
  },
  {
   "cell_type": "code",
   "execution_count": null,
   "metadata": {
    "colab": {
     "base_uri": "https://localhost:8080/",
     "height": 292
    },
    "id": "mPE8SYNaVupL",
    "outputId": "2352ca41-9682-4670-ed71-c346b6955a90"
   },
   "outputs": [
    {
     "name": "stdout",
     "output_type": "stream",
     "text": [
      "precision : 0.7000000000000001\n",
      "recall : 0.6944444444444443\n",
      "f1 : 0.6888888888888888\n",
      "accuracy : 0.625\n",
      "Confusion matrix: \n",
      "[[3 1 0]\n",
      " [2 1 0]\n",
      " [0 0 1]]\n",
      "Some images with wrong predictions\n"
     ]
    },
    {
     "data": {
      "image/png": "[encoded data removed]",
      "text/plain": [
       "<Figure size 720x720 with 3 Axes>"
      ]
     },
     "metadata": {
      "needs_background": "light",
      "tags": []
     },
     "output_type": "display_data"
    }
   ],
   "source": [
    "y_true = [1,0,2,0,0,1,1,0]\n",
    "y_pred = [0,0,2,0,1,1,0,0]\n",
    "x = np.random.rand(8,28*28)\n",
    "\n",
    "eval = Evaluate(y_true,y_pred,x)\n",
    "eval.get_evaluation_report()"
   ]
  },
  {
   "cell_type": "code",
   "execution_count": null,
   "metadata": {
    "id": "OxUY-ZijV20p"
   },
   "outputs": [],
   "source": [
    "import pandas as pd\n",
    "import numpy as np\n",
    "from matplotlib import pyplot as plt\n",
    "\n",
    "train_dset = pd.read_csv('/content/sample_data/mnist_train_small.csv',header=None)\n",
    "test_dset = pd.read_csv('/content/sample_data/mnist_test.csv',header=None)\n",
    "## From https://colab.research.google.com/notebooks/mlcc/multi-class_classification_of_handwritten_digits.ipynb#scrollTo=JfFWWvMWDFrR\n",
    "def parse_labels_and_features(dataset):\n",
    "  \"\"\"Extracts labels and features.\n",
    "  \n",
    "  This is a good place to scale or transform the features if needed.\n",
    "  \n",
    "  Args:\n",
    "    dataset: A Pandas `Dataframe`, containing the label on the first column and\n",
    "      monochrome pixel values on the remaining columns, in row major order.\n",
    "  Returns:\n",
    "    A `tuple` `(labels, features)`:\n",
    "      labels: A Pandas `Series`.\n",
    "      features: A Pandas `DataFrame`.\n",
    "  \"\"\"\n",
    "  labels = dataset[0]\n",
    "  \n",
    "  # DataFrame.loc index ranges are inclusive at both ends.\n",
    "  features = dataset.loc[:,1:784]\n",
    "  # Scale the data to [0, 1] by dividing out the max value, 255.\n",
    "  features = features / 255\n",
    "\n",
    "  return labels, np.array(features)\n",
    "\n",
    "def show_image(features):\n",
    "  img = features.reshape((28,28))\n",
    "  plt.imshow(img)\n",
    "  plt.show()\n",
    "\n",
    "y_train,x_train = parse_labels_and_features(train_dset)\n",
    "y_test,x_test = parse_labels_and_features(test_dset)"
   ]
  },
  {
   "cell_type": "markdown",
   "metadata": {
    "id": "8fwLtQPPWPCR"
   },
   "source": [
    "Ποια είναι η μορφή των δεδομένων για μια εικόνα;"
   ]
  },
  {
   "cell_type": "code",
   "execution_count": null,
   "metadata": {
    "colab": {
     "base_uri": "https://localhost:8080/"
    },
    "id": "x1q_eM4dWFce",
    "outputId": "fe2e61f8-bf79-487c-cf33-3558c76b8d96"
   },
   "outputs": [
    {
     "name": "stdout",
     "output_type": "stream",
     "text": [
      "Shape of an image: (784,)\n",
      "Max value of pixel: 1.0\n"
     ]
    }
   ],
   "source": [
    "print(\"Shape of an image: \"+str(x_train[0].shape))\n",
    "print(\"Max value of pixel: \"+str(np.max(x_train[0])))"
   ]
  },
  {
   "cell_type": "markdown",
   "metadata": {
    "id": "7kp1qp_yWYD1"
   },
   "source": [
    "Φορτώνουμε μια τυχαία εικόνα και την εμφανίζουμε, μαζί με την ετικέτα της"
   ]
  },
  {
   "cell_type": "code",
   "execution_count": null,
   "metadata": {
    "colab": {
     "base_uri": "https://localhost:8080/",
     "height": 282
    },
    "id": "rjqhElUdWK6c",
    "outputId": "4113464d-68c4-4ef9-c4f0-e4a3a4049388"
   },
   "outputs": [
    {
     "data": {
      "image/png": "[encoded data removed]",
      "text/plain": [
       "<Figure size 432x288 with 1 Axes>"
      ]
     },
     "metadata": {
      "needs_background": "light",
      "tags": []
     },
     "output_type": "display_data"
    },
    {
     "name": "stdout",
     "output_type": "stream",
     "text": [
      "Label = 8\n"
     ]
    }
   ],
   "source": [
    "i = np.random.randint(0,x_train.shape[0])\n",
    "show_image(x_train[i])\n",
    "\n",
    "print(\"Label = \" +str(y_train[i]))"
   ]
  },
  {
   "cell_type": "markdown",
   "metadata": {
    "id": "F0Tapi3wW7uD"
   },
   "source": [
    "##2o Μέρος: Υλοποίηση KNN"
   ]
  },
  {
   "cell_type": "code",
   "execution_count": null,
   "metadata": {
    "id": "4U0YnuKyWmjt"
   },
   "outputs": [],
   "source": [
    "## Simple KNN\n",
    "from collections import Counter\n",
    "from numpy import linalg\n",
    "class KNN:\n",
    "  def __init__(self,x,y,k,distance=\"euclidian\"):\n",
    "    self.x = x\n",
    "    self.y = y\n",
    "    self.k = k\n",
    "    self.distance = distance\n",
    " \n",
    "  def get_distance(self,img1,img2):\n",
    "    \n",
    "    if self.distance=='euclidian':\n",
    "      #k_most_similar = self.get_knn(img)\n",
    "    \n",
    "      #prediction = self.y[k_most_similar[0]] \n",
    "      #uniq_label, counts = np.unique(nn_labels, return_counts = True)\n",
    "      #prediction = uniq_label[counts.argmax()]\n",
    "      vector = img1-img2\n",
    "      dist = linalg.norm(vector)\n",
    "       \n",
    "    elif self.distance=='cosine':\n",
    "      \n",
    "      product = np.inner(img1, img2)\n",
    "      img1 = linalg.norm(img1)\n",
    "      img2 = linalg.norm(img2)\n",
    "      dist = 1 - product/(img1*img2) \n",
    "      pass\n",
    "    return dist\n",
    "\n",
    "\n",
    "  ## Given an image as a vector, returns indexes of k nearest neighbors\n",
    "  def get_knn(self,img):\n",
    "    distances = list()\n",
    "    x = self.x\n",
    "    k = self.k\n",
    "    \n",
    "    for i in range(len(x)):\n",
    "      distances.append(self.get_distance(img, x[i]))\n",
    "    \n",
    "    # Sort distances, and return the indexes of k first elements\n",
    "    ans_indexes = np.argsort(distances)[:k]\n",
    "    return ans_indexes\n",
    "\n",
    "\n",
    "  ## Given an image as a vector, classify it according to KNN\n",
    "  def classify(self,img):\n",
    "    y = self.y\n",
    "    nn_labels = [y[i] for i in self.get_knn(img)]\n",
    "    uniq_label, counts = np.unique(nn_labels, return_counts = True)\n",
    "    prediction = uniq_label[counts.argmax()]\n",
    "    #prediction = Counter(nn_labels).most_common(1)[0][0]\n",
    "    return prediction\n",
    "\n",
    "\n",
    "knn = KNN(x_train,y_train,k=5,distance='euclidian')"
   ]
  },
  {
   "cell_type": "markdown",
   "metadata": {
    "id": "L8uYXTCXXq4J"
   },
   "source": [
    "Τώρα που είναι έτοιμος ο ταξινομητής ας δούμε τι προβλέπει σε μεμονομένες εικόνες"
   ]
  },
  {
   "cell_type": "code",
   "execution_count": null,
   "metadata": {
    "colab": {
     "base_uri": "https://localhost:8080/",
     "height": 298
    },
    "id": "DNSt0FquWVQg",
    "outputId": "45557afb-79f5-40c7-a0f3-d7113d0120c1"
   },
   "outputs": [
    {
     "name": "stdout",
     "output_type": "stream",
     "text": [
      "Input image: \n"
     ]
    },
    {
     "data": {
      "image/png": "[encoded data removed]",
      "text/plain": [
       "<Figure size 432x288 with 1 Axes>"
      ]
     },
     "metadata": {
      "needs_background": "light",
      "tags": []
     },
     "output_type": "display_data"
    },
    {
     "name": "stdout",
     "output_type": "stream",
     "text": [
      "Prediction : 9\n"
     ]
    }
   ],
   "source": [
    "img = x_test[np.random.randint(0,x_test.shape[0])]\n",
    "print(\"Input image: \")\n",
    "show_image(img)\n",
    "print('Prediction : '+str(knn.classify(img)))"
   ]
  },
  {
   "cell_type": "code",
   "execution_count": null,
   "metadata": {
    "id": "Zer0gaBQX0Eo"
   },
   "outputs": [],
   "source": [
    "## Παίρνουμε όλες τις προβλέψεις στο test set (πρώτες 100 εικόνες)\n",
    "## ..υπομονή μερικά λεπτά\n",
    "preds = [knn.classify(x_test[i]) for i in range(100)]\n",
    "labels = [y_test[i] for i in range(100)]"
   ]
  },
  {
   "cell_type": "code",
   "execution_count": null,
   "metadata": {
    "colab": {
     "base_uri": "https://localhost:8080/",
     "height": 410
    },
    "id": "utwnhIXMY5YE",
    "outputId": "2f5bb45d-74d0-4840-d8df-5540281faba6"
   },
   "outputs": [
    {
     "name": "stdout",
     "output_type": "stream",
     "text": [
      "precision : 0.9749019607843138\n",
      "recall : 0.9568181818181818\n",
      "f1 : 0.962567733990148\n",
      "accuracy : 0.96\n",
      "Confusion matrix: \n",
      "[[ 8  0  0  0  0  0  0  0  0  0]\n",
      " [ 0 14  0  0  0  0  0  0  0  0]\n",
      " [ 0  1  6  0  0  0  0  1  0  0]\n",
      " [ 0  0  0 11  0  0  0  0  0  0]\n",
      " [ 0  0  0  0 14  0  0  0  0  0]\n",
      " [ 0  0  0  0  0  7  0  0  0  0]\n",
      " [ 0  0  0  0  0  0 10  0  0  0]\n",
      " [ 0  0  0  0  0  0  0 15  0  0]\n",
      " [ 0  0  0  0  0  0  0  0  2  0]\n",
      " [ 0  0  0  0  1  0  0  1  0  9]]\n",
      "Some images with wrong predictions\n"
     ]
    },
    {
     "data": {
      "image/png": "[encoded data removed]",
      "text/plain": [
       "<Figure size 720x720 with 4 Axes>"
      ]
     },
     "metadata": {
      "needs_background": "light",
      "tags": []
     },
     "output_type": "display_data"
    }
   ],
   "source": [
    "eval = Evaluate(labels,preds,x_test[:100])\n",
    "eval.get_evaluation_report()"
   ]
  },
  {
   "cell_type": "markdown",
   "metadata": {
    "id": "r7O2ZFP5ZNxG"
   },
   "source": [
    "##Έτοιμος ΚΝΝ classifier"
   ]
  },
  {
   "cell_type": "code",
   "execution_count": null,
   "metadata": {
    "colab": {
     "base_uri": "https://localhost:8080/",
     "height": 410
    },
    "id": "0G8861PIZGqC",
    "outputId": "0d710183-1c9d-429e-a099-ac14ef314866"
   },
   "outputs": [
    {
     "name": "stdout",
     "output_type": "stream",
     "text": [
      "precision : 0.9749019607843138\n",
      "recall : 0.9568181818181818\n",
      "f1 : 0.962567733990148\n",
      "accuracy : 0.96\n",
      "Confusion matrix: \n",
      "[[ 8  0  0  0  0  0  0  0  0  0]\n",
      " [ 0 14  0  0  0  0  0  0  0  0]\n",
      " [ 0  1  6  0  0  0  0  1  0  0]\n",
      " [ 0  0  0 11  0  0  0  0  0  0]\n",
      " [ 0  0  0  0 14  0  0  0  0  0]\n",
      " [ 0  0  0  0  0  7  0  0  0  0]\n",
      " [ 0  0  0  0  0  0 10  0  0  0]\n",
      " [ 0  0  0  0  0  0  0 15  0  0]\n",
      " [ 0  0  0  0  0  0  0  0  2  0]\n",
      " [ 0  0  0  0  1  0  0  1  0  9]]\n",
      "Some images with wrong predictions\n"
     ]
    },
    {
     "data": {
      "image/png": "[encoded data removed]",
      "text/plain": [
       "<Figure size 720x720 with 4 Axes>"
      ]
     },
     "metadata": {
      "needs_background": "light",
      "tags": []
     },
     "output_type": "display_data"
    }
   ],
   "source": [
    "from sklearn.neighbors import KNeighborsClassifier\n",
    "\n",
    "k = 5\n",
    "knc = KNeighborsClassifier(n_neighbors=k)\n",
    "knc.fit(x_train, y_train)\n",
    "y_pred = knc.predict(x_test[:100])\n",
    "\n",
    "eval = Evaluate(y_test[:100],y_pred,x_test[:100])\n",
    "eval.get_evaluation_report()"
   ]
  },
  {
   "cell_type": "markdown",
   "metadata": {
    "id": "2RorYXI6ZcA0"
   },
   "source": [
    "##Σύκγριση υλοποιήσεων"
   ]
  },
  {
   "cell_type": "code",
   "execution_count": null,
   "metadata": {
    "colab": {
     "base_uri": "https://localhost:8080/"
    },
    "id": "FZ2KMINNZUet",
    "outputId": "223ea20d-66d6-4b96-9833-03f99408ab74"
   },
   "outputs": [
    {
     "name": "stdout",
     "output_type": "stream",
     "text": [
      "CPU times: user 22.2 s, sys: 79 ms, total: 22.3 s\n",
      "Wall time: 22.3 s\n"
     ]
    }
   ],
   "source": [
    "%%time\n",
    "knn = KNN(x_train,y_train,k=5,distance='euclidian')\n",
    "preds = [knn.classify(x_test[i]) for i in range(100)]"
   ]
  },
  {
   "cell_type": "code",
   "execution_count": null,
   "metadata": {
    "colab": {
     "base_uri": "https://localhost:8080/"
    },
    "id": "8U93tAi5ZhWL",
    "outputId": "87f517bb-825d-4270-c569-439f7ef97369"
   },
   "outputs": [
    {
     "name": "stdout",
     "output_type": "stream",
     "text": [
      "CPU times: user 7.51 s, sys: 8.01 ms, total: 7.52 s\n",
      "Wall time: 7.52 s\n"
     ]
    }
   ],
   "source": [
    "%%time\n",
    "knc = KNeighborsClassifier(n_neighbors=5)\n",
    "knc.fit(x_train, y_train)\n",
    "y_pred = knc.predict(x_test[:100])"
   ]
  },
  {
   "cell_type": "markdown",
   "metadata": {
    "id": "A8rG6UzBag2I"
   },
   "source": [
    "##Σχολιασμός"
   ]
  },
  {
   "cell_type": "markdown",
   "metadata": {
    "id": "M-atIhsEak6_"
   },
   "source": [
    "Πράγματι, παρατηρούμε πως ο έτοιμος ταξινομητής \" KNeighborsClassifier\" παρουσιάζει τα ίδια ακριβώς αποτελέσματα \"precision : 0.9749019607843138, \n",
    "recall : 0.9568181818181818, \n",
    "f1 : 0.962567733990148,\n",
    "accuracy : 0.96\" με τον ταξινομητή που κατασκευάσαμε εμείς, για την ευκλίδεια απόσταση. Οι επιδόσεις του δικού μας ταξινομητή για τη συνάρτηση συνημιτόνου είναι καλέτερες του έτοιμου classifier.\n",
    "Συγρίνοντας τους χρόνους εκτέλεσης, όπως φαίνεται παραπάνω, ο έτοιμος ταξινομητής καθυστερεί περισσότερο.\n",
    "Για μεγαλύτερες τιμές του k το μοντέλο γίνεται απλόυστερο, αφού η προσαρμογή είναι μειωμένη (underfit) και έχουμε ως αποτέλεσμα χαμηλότερο variance και υψηλότερο bias.\n",
    "Για υψηλότερες τιμές του k το μοντέλο γίνεται σύνθετο, αυξάνεται η προσαρμογή (overfit) και έχουμε ως αποτέλεσμα υψηλότερο variance και χαμηλότερο bias."
   ]
  },
  {
   "cell_type": "markdown",
   "metadata": {
    "id": "TEMl8npjarEi"
   },
   "source": [
    "##3ο Μέρος: Naive Bayes"
   ]
  },
  {
   "cell_type": "code",
   "execution_count": null,
   "metadata": {
    "colab": {
     "base_uri": "https://localhost:8080/",
     "height": 265
    },
    "id": "VG1jorSjZnpU",
    "outputId": "212f74f7-9205-4bb3-c9b6-bc294f6e8454"
   },
   "outputs": [
    {
     "data": {
      "image/png": "[encoded data removed]",
      "text/plain": [
       "<Figure size 432x288 with 1 Axes>"
      ]
     },
     "metadata": {
      "needs_background": "light",
      "tags": []
     },
     "output_type": "display_data"
    }
   ],
   "source": [
    "## Στρογγυλοποίηση:\n",
    "x_train_r = np.round(x_train)\n",
    "x_test_r = np.round(x_test)\n",
    "show_image(x_test_r[0])"
   ]
  },
  {
   "cell_type": "code",
   "execution_count": null,
   "metadata": {
    "id": "gVrSXujXbKMw"
   },
   "outputs": [],
   "source": [
    "class NaiveBayes:\n",
    "  def __init__(self,x,y):\n",
    "    self.x = x\n",
    "    self.y = y\n",
    "    ## pC is a vector with the probability of each class\n",
    "    self.pC = np.zeros((10,))\n",
    "    ## pxC is an array with all probabilities p(xi|C)\n",
    "    self.pxC = np.zeros((x.shape[-1],10))\n",
    "    ## Compute the probabilities\n",
    "    self.compute_probabilities()\n",
    "\n",
    "  def compute_probabilities(self):\n",
    "\n",
    "    for i in range(len(self.x)):\n",
    "      for j in range(len(self.x[i])):\n",
    "        self.pxC[j][self.y[i]] += self.x[i][j]\n",
    "\n",
    "    for label in self.y:\n",
    "      self.pC[label]+=1\n",
    "    for j in range(10):\n",
    "      self.pxC[:, j] = self.pxC[:, j] / self.pC[j]\n",
    "    self.pC = self.pC/self.y.shape[0]\n",
    "\n",
    "  def predict(self,x):\n",
    "    \n",
    "    pcX = np.ones((10,))\n",
    "    \n",
    "    for i in range(10):\n",
    "      \n",
    "      pcX[i] = self.pC[i]\n",
    "      for j in range(28*28):\n",
    "        if x[j] != 0:   \n",
    "          pcX[i] *= self.pxC[j][i]\n",
    "        else:\n",
    "          pcX[i] *= (1-self.pxC[j][i])\n",
    "     \n",
    "    return np.argmax(pcX)"
   ]
  },
  {
   "cell_type": "markdown",
   "metadata": {
    "id": "t4Xh1s8ebiWV"
   },
   "source": [
    "##Αξιολόγηση του Naive Bayes"
   ]
  },
  {
   "cell_type": "code",
   "execution_count": null,
   "metadata": {
    "colab": {
     "base_uri": "https://localhost:8080/",
     "height": 747
    },
    "id": "37QOmeDIbe3_",
    "outputId": "4b9db9d3-5236-47c4-fb05-6fdc929f9c7b"
   },
   "outputs": [
    {
     "name": "stdout",
     "output_type": "stream",
     "text": [
      "precision : 0.8400974025974026\n",
      "recall : 0.850108225108225\n",
      "f1 : 0.8261529454950507\n",
      "accuracy : 0.85\n",
      "Confusion matrix: \n",
      "[[ 7  0  0  0  0  0  0  0  1  0]\n",
      " [ 0 13  0  1  0  0  0  0  0  0]\n",
      " [ 0  0  7  1  0  0  0  0  0  0]\n",
      " [ 0  0  1 10  0  0  0  0  0  0]\n",
      " [ 1  0  0  0 12  0  0  0  0  1]\n",
      " [ 0  0  0  2  1  4  0  0  0  0]\n",
      " [ 0  0  2  0  0  0  8  0  0  0]\n",
      " [ 0  0  1  0  0  0  0 13  0  1]\n",
      " [ 0  0  0  0  0  0  0  0  2  0]\n",
      " [ 0  0  0  0  1  0  0  0  1  9]]\n",
      "Some images with wrong predictions\n"
     ]
    },
    {
     "data": {
      "image/png": "[encoded data removed]",
      "text/plain": [
       "<Figure size 720x720 with 15 Axes>"
      ]
     },
     "metadata": {
      "needs_background": "light",
      "tags": []
     },
     "output_type": "display_data"
    }
   ],
   "source": [
    "nb = NaiveBayes(x_train_r,y_train)\n",
    "preds = [ nb.predict(i) for i in x_test_r[:100]]\n",
    "eval = Evaluate(y_test[:100], preds, x_test_r[:100])\n",
    "eval.get_evaluation_report()"
   ]
  },
  {
   "cell_type": "markdown",
   "metadata": {
    "id": "Peo0bPOvcZyI"
   },
   "source": [
    "##Έτοιμος Naive Bayes"
   ]
  },
  {
   "cell_type": "code",
   "execution_count": null,
   "metadata": {
    "colab": {
     "base_uri": "https://localhost:8080/",
     "height": 1000
    },
    "id": "Bn5oa7c4bp6Y",
    "outputId": "b147292a-c031-4851-9238-33f840fb9669"
   },
   "outputs": [
    {
     "name": "stderr",
     "output_type": "stream",
     "text": [
      "/usr/local/lib/python3.6/dist-packages/sklearn/metrics/_classification.py:1272: UndefinedMetricWarning: Precision is ill-defined and being set to 0.0 in labels with no predicted samples. Use `zero_division` parameter to control this behavior.\n",
      "  _warn_prf(average, modifier, msg_start, len(result))\n"
     ]
    },
    {
     "name": "stdout",
     "output_type": "stream",
     "text": [
      "precision : 0.5992985558502799\n",
      "recall : 0.5716774891774892\n",
      "f1 : 0.5081873844349185\n",
      "accuracy : 0.6\n",
      "Confusion matrix: \n",
      "[[ 7  0  0  0  0  0  0  0  0  1]\n",
      " [ 0 14  0  0  0  0  0  0  0  0]\n",
      " [ 3  0  2  0  0  0  2  0  0  1]\n",
      " [ 0  0  1  3  0  0  1  0  5  1]\n",
      " [ 1  1  0  0  4  0  0  0  0  8]\n",
      " [ 2  0  0  0  1  0  0  0  3  1]\n",
      " [ 0  0  0  0  0  0 10  0  0  0]\n",
      " [ 0  0  1  0  0  0  0  8  0  6]\n",
      " [ 1  0  0  0  0  0  0  0  1  0]\n",
      " [ 0  0  0  0  0  0  0  0  0 11]]\n",
      "Some images with wrong predictions\n"
     ]
    },
    {
     "name": "stderr",
     "output_type": "stream",
     "text": [
      "/usr/local/lib/python3.6/dist-packages/sklearn/metrics/_classification.py:1272: UndefinedMetricWarning: Precision is ill-defined and being set to 0.0 in labels with no predicted samples. Use `zero_division` parameter to control this behavior.\n",
      "  _warn_prf(average, modifier, msg_start, len(result))\n"
     ]
    },
    {
     "name": "stdout",
     "output_type": "stream",
     "text": [
      "precision : 0.5771820010055304\n",
      "recall : 0.5655194805194805\n",
      "f1 : 0.4885160894473657\n",
      "accuracy : 0.59\n",
      "Confusion matrix: \n",
      "[[ 8  0  0  0  0  0  0  0  0  0]\n",
      " [ 0 14  0  0  0  0  0  0  0  0]\n",
      " [ 3  0  2  0  0  0  2  0  0  1]\n",
      " [ 0  1  1  2  0  0  1  0  5  1]\n",
      " [ 1  1  0  0  3  0  0  1  0  8]\n",
      " [ 2  0  0  0  1  0  0  0  3  1]\n",
      " [ 0  0  0  0  0  0 10  0  0  0]\n",
      " [ 0  0  1  0  0  0  0  9  0  5]\n",
      " [ 1  0  0  0  0  0  0  0  1  0]\n",
      " [ 0  1  0  0  0  0  0  0  0 10]]\n",
      "Some images with wrong predictions\n"
     ]
    },
    {
     "data": {
      "image/png": "[encoded data removed]",
      "text/plain": [
       "<Figure size 720x720 with 20 Axes>"
      ]
     },
     "metadata": {
      "needs_background": "light",
      "tags": []
     },
     "output_type": "display_data"
    },
    {
     "data": {
      "image/png": "[encoded data removed]",
      "text/plain": [
       "<Figure size 720x720 with 20 Axes>"
      ]
     },
     "metadata": {
      "needs_background": "light",
      "tags": []
     },
     "output_type": "display_data"
    }
   ],
   "source": [
    "from sklearn.naive_bayes import GaussianNB\n",
    "\n",
    "gnb = GaussianNB()\n",
    "y_pred = gnb.fit(x_train, y_train).predict(x_test[:100])\n",
    "\n",
    "eval = Evaluate(y_test[:100], y_pred, x_test[:100])\n",
    "eval.get_evaluation_report()\n",
    "\n",
    "y_pred = gnb.fit(x_train_r, y_train).predict(x_test_r[:100])\n",
    "\n",
    "eval = Evaluate(y_test[:100], y_pred, x_test_r[:100])\n",
    "eval.get_evaluation_report()"
   ]
  },
  {
   "cell_type": "markdown",
   "metadata": {
    "id": "78n0_v6_cmJ6"
   },
   "source": [
    "##Σύγκριση υλοποιήσεων"
   ]
  },
  {
   "cell_type": "code",
   "execution_count": null,
   "metadata": {
    "colab": {
     "base_uri": "https://localhost:8080/"
    },
    "id": "Jtd-uj_UclMh",
    "outputId": "b213509d-8d68-4fb8-a79f-fceb72ed9a25"
   },
   "outputs": [
    {
     "name": "stdout",
     "output_type": "stream",
     "text": [
      "CPU times: user 1min 13s, sys: 12 ms, total: 1min 13s\n",
      "Wall time: 1min 14s\n"
     ]
    }
   ],
   "source": [
    "%%time\n",
    "nb = NaiveBayes(x_train_r,y_train)\n",
    "preds = [ nb.predict(i) for i in x_test_r[:100]]"
   ]
  },
  {
   "cell_type": "code",
   "execution_count": null,
   "metadata": {
    "colab": {
     "base_uri": "https://localhost:8080/"
    },
    "id": "hfcp3c7ecfq9",
    "outputId": "d8b6bf2f-b9bb-4016-d8ba-5aee715656fb"
   },
   "outputs": [
    {
     "name": "stdout",
     "output_type": "stream",
     "text": [
      "CPU times: user 323 ms, sys: 4.99 ms, total: 328 ms\n",
      "Wall time: 335 ms\n"
     ]
    }
   ],
   "source": [
    "%%time\n",
    "gnb = GaussianNB()\n",
    "y_pred = gnb.fit(x_train, y_train).predict(x_test[:100])"
   ]
  },
  {
   "cell_type": "markdown",
   "metadata": {
    "id": "FBPnCVCzd4WN"
   },
   "source": [
    "##Σχολιασμός"
   ]
  },
  {
   "cell_type": "markdown",
   "metadata": {
    "id": "jSVljcb5dz22"
   },
   "source": [
    "Κατά τον υπολογισμό της πιθανότητας \"pxC\", χάρη στη στρογγυλοποιήση των \"x_train & x_test\" sets, γνωρίζαμε για την κάθε εικόνα της κλάσης πόσες φορές ήταν \"1\" το συγκεκριμένο χαρακτηριστικό και διαιρώντας με το πλήθος των στοιχείων της κλάσης λαμβάναμε τη ζητούμενη πιθανότητα.\n",
    "Ο δικός μας NaiveBayes ταξινομητής, εμφανίζει υψολότερες επιδόσεις και εγκυρότητα από τον έτοιμο. \n",
    "Ο τελευταίος, για τα στρογγυλοποιημένα σύνολα παρουσιάζει χαμηλότερες επιδόσεις.\n",
    "Ωστόσο, ο έτοιμος ταξινομητής είναι αισθητά ταχύτερος από αυτόν που υλοποιήσαμε εμείς."
   ]
  },
  {
   "cell_type": "markdown",
   "metadata": {
    "id": "-aWBz2IzeIGx"
   },
   "source": [
    "##4ο Μέρος: Multi-Layer Perceptron"
   ]
  },
  {
   "cell_type": "code",
   "execution_count": null,
   "metadata": {
    "id": "VQvd13RddogR"
   },
   "outputs": [],
   "source": [
    "class Layer:\n",
    "    def __init__(self):\n",
    "        \"\"\"Here we can initialize layer parameters (if any) and auxiliary stuff.\"\"\"\n",
    "        # A dummy layer does nothing\n",
    "        pass\n",
    "    \n",
    "    def forward(self, input):\n",
    "        \"\"\"\n",
    "        Takes input data of shape [batch, input_units], returns output data [batch, output_units]\n",
    "        \"\"\"\n",
    "        # A dummy layer just returns whatever it gets as input.\n",
    "        return input\n",
    "\n",
    "    def backward(self, input, grad_output):\n",
    "        # The gradient of a dummy layer is precisely grad_output, but we'll write it more explicitly\n",
    "        #changes that should be done at weights\n",
    "        #helps refresh of weights correct train\n",
    "        num_units = input.shape[1]\n",
    "        \n",
    "        d_layer_d_input = np.eye(num_units)\n",
    "        \n",
    "        return np.dot(grad_output, d_layer_d_input) # chain rule"
   ]
  },
  {
   "cell_type": "code",
   "execution_count": null,
   "metadata": {
    "id": "zUk3YNCGeSIc"
   },
   "outputs": [],
   "source": [
    "class ReLU(Layer):\n",
    "    def __init__(self):\n",
    "        \"\"\"ReLU layer simply applies elementwise rectified linear unit to all inputs\"\"\"\n",
    "        pass\n",
    "    \n",
    "    def forward(self, input):\n",
    "        \"\"\"Apply elementwise ReLU to [batch, input_units] matrix\"\"\"\n",
    "        relu_forward = np.maximum(0,input) #returns an array with elements >=0\n",
    "        return relu_forward\n",
    "    \n",
    "    def backward(self, input, grad_output):\n",
    "        \"\"\"Compute gradient of loss w.r.t. ReLU input\"\"\"\n",
    "        relu_grad = input > 0 #true if input>0\n",
    "        return grad_output*relu_grad #int*True = int\n",
    "                                     #int*False = 0"
   ]
  },
  {
   "cell_type": "code",
   "execution_count": null,
   "metadata": {
    "id": "4zcoJ1h5eWkA"
   },
   "outputs": [],
   "source": [
    "class Dense(Layer):\n",
    "    def __init__(self, input_units, output_units, learning_rate=0.1):\n",
    "        \"\"\"\n",
    "        Weight Initialization\n",
    "        \"\"\"\n",
    "        self.input_units = input_units\n",
    "        self.output_units = output_units\n",
    "        \n",
    "        self.learning_rate = learning_rate\n",
    "        self.weights = np.random.normal(loc=0.0, \n",
    "                                        scale = np.sqrt(2/(input_units+output_units)), \n",
    "                                        size = (input_units,output_units))\n",
    "        self.biases = np.zeros(output_units)\n",
    "        \n",
    "    def forward(self,input):\n",
    "        \"\"\"\n",
    "        Perform an affine transformation:\n",
    "        f(x) = <W*x> + b\n",
    "        \n",
    "        input shape: [number of inputs, input units]\n",
    "        output shape: [number of inputs, output units]\n",
    "        \"\"\"\n",
    "        \n",
    "        output = np.dot(input,self.weights) + self.biases\n",
    "\n",
    "        return output\n",
    "    \n",
    "    def backward(self,input,grad_output):\n",
    "        # compute d f / d x = d f / d dense * d dense / d x\n",
    "        # where d dense/ d x = weights transposed\n",
    "        grad_input = np.dot(grad_output, self.weights.T)\n",
    "        \n",
    "        #The T attribute is the transpose of the array,\n",
    "        # compute gradient w.r.t. weights and biases\n",
    "        grad_weights = np.dot(input.T, grad_output)\n",
    "        grad_biases = grad_output.mean(axis=0)*input.shape[0]\n",
    "        \n",
    "        assert grad_weights.shape == self.weights.shape and grad_biases.shape == self.biases.shape\n",
    "        \n",
    "        # Here we perform a stochastic gradient descent step. \n",
    "        self.weights = self.weights - self.learning_rate * grad_weights\n",
    "        self.biases = self.biases - self.learning_rate * grad_biases\n",
    "        \n",
    "        return grad_input"
   ]
  },
  {
   "cell_type": "code",
   "execution_count": null,
   "metadata": {
    "id": "hJKJC7rCelYO"
   },
   "outputs": [],
   "source": [
    "def softmax_crossentropy_with_logits(logits,reference_answers):\n",
    "    \"\"\"Compute crossentropy from logits[batch,n_classes] and ids of correct answers\"\"\"\n",
    "    logits_for_answers = logits[np.arange(len(logits)),reference_answers]\n",
    "    xentropy = - logits_for_answers + np.log(np.sum(np.exp(logits),axis=-1))\n",
    "    return xentropy\n",
    "\n",
    "def grad_softmax_crossentropy_with_logits(logits,reference_answers):\n",
    "    \"\"\"Compute crossentropy gradient from logits[batch,n_classes] and ids of correct answers\"\"\"\n",
    "    ones_for_answers = np.zeros_like(logits)\n",
    "    ones_for_answers[np.arange(len(logits)),reference_answers] = 1\n",
    "    \n",
    "    softmax = np.exp(logits) / np.exp(logits).sum(axis=-1,keepdims=True)\n",
    "    \n",
    "    return (- ones_for_answers + softmax) / logits.shape[0]"
   ]
  },
  {
   "cell_type": "code",
   "execution_count": null,
   "metadata": {
    "id": "6pvwkzPAewN6"
   },
   "outputs": [],
   "source": [
    "class MLP:\n",
    "    def __init__(self, shapes, input_dim):\n",
    "        '''\n",
    "        Κατασκευή του MLP. Τα επίπεδα και το μέγεθός τους ορίζεται από την μεταβλήτη shape, ενώ\n",
    "        το μέγεθος της εισόδου ορίζεται από την μεταβλήτη input_dim\n",
    "        '''\n",
    "        self.shapes = shapes\n",
    "        self.network = [Dense(input_dim, shapes[0])]\n",
    "        self.network.append(ReLU())\n",
    "        for i in range(1, len(self.shapes) - 1):\n",
    "            self.network.append(Dense(shapes[i-1],shapes[i]))\n",
    "            self.network.append(ReLU())\n",
    "        self.network.append(Dense(shapes[i],shapes[-1]))\n",
    "\n",
    "    def forward(self, X):\n",
    "        \"\"\"\n",
    "        Αγόριθμος διφάνειας 33\n",
    "        \"\"\"\n",
    "        activations = []\n",
    "        input = X\n",
    "        \n",
    "        for l in self.network:\n",
    "            activations.append(l.forward(input))\n",
    "            \n",
    "            input = activations[-1]\n",
    "            \n",
    "            \n",
    "            pass\n",
    "\n",
    "                   \n",
    "        assert len(activations) == len(self.network)\n",
    "        return activations\n",
    "\n",
    "    def predict(self,X):\n",
    "        \"\"\"\n",
    "        Προβλέπει την έξοδο του δικτύου για ένα ή περισσότερα στιγμιότυπα εισόδου\n",
    "        \"\"\"\n",
    "        logits = self.forward(X)[-1]\n",
    "        return logits.argmax(axis=-1)\n",
    "\n",
    "    def fit(self, X, y):\n",
    "        \n",
    "        layer_activations = self.forward(X)\n",
    "        layer_inputs = [X]+layer_activations  #layer_input[i] is an input for network[i]\n",
    "        logits = layer_activations[-1]\n",
    "        \n",
    "        # Compute the loss and the initial gradient\n",
    "        loss = softmax_crossentropy_with_logits(logits,y)\n",
    "        loss_grad = grad_softmax_crossentropy_with_logits(logits,y)\n",
    "        \n",
    "        # Propagate gradients through the network\n",
    "        # Reverse propogation as this is backprop\n",
    "        for layer_index in range(len(self.network))[::-1]:\n",
    "            layer = self.network[layer_index]\n",
    "            loss_grad = layer.backward(layer_inputs[layer_index],loss_grad) #grad w.r.t. input, also weight updates\n",
    "        return np.mean(loss)"
   ]
  },
  {
   "cell_type": "code",
   "execution_count": null,
   "metadata": {
    "colab": {
     "base_uri": "https://localhost:8080/",
     "height": 1000
    },
    "id": "eEr2XDmAfOEj",
    "outputId": "a94cff8d-ae9c-404e-c3aa-7d7a611f6989"
   },
   "outputs": [
    {
     "name": "stdout",
     "output_type": "stream",
     "text": [
      "Epoch 24\n",
      "Train accuracy: 0.75\n",
      "Val accuracy: 0.7517\n"
     ]
    },
    {
     "data": {
      "image/png": "[encoded data removed]",
      "text/plain": [
       "<Figure size 432x288 with 1 Axes>"
      ]
     },
     "metadata": {
      "needs_background": "light",
      "tags": []
     },
     "output_type": "display_data"
    },
    {
     "name": "stdout",
     "output_type": "stream",
     "text": [
      "precision : 0.7703072400261106\n",
      "recall : 0.7446128565208234\n",
      "f1 : 0.7343594729722056\n",
      "accuracy : 0.7517\n",
      "Confusion matrix: \n",
      "[[ 933    0    7   10    0    4   19    1    6    0]\n",
      " [   0 1051    1    5    0    1    2    0   75    0]\n",
      " [  30   31  676  124   21    0   46   28   64   12]\n",
      " [  18   10   22  848    0   18    8   23   55    8]\n",
      " [   4   29    6    0  565    0   60   15   16  287]\n",
      " [  79   50    6  247   19  254   47   35   90   65]\n",
      " [  53   25   11    7    9    1  843    1    8    0]\n",
      " [   9   31   32    2   10    1    1  903   18   21]\n",
      " [  22   26   21  104    4    1   32   52  670   42]\n",
      " [  20   26   15   13   46    4    3   90   18  774]]\n",
      "Some images with wrong predictions\n"
     ]
    },
    {
     "data": {
      "image/png": "[encoded data removed]",
      "text/plain": [
       "<Figure size 720x720 with 20 Axes>"
      ]
     },
     "metadata": {
      "needs_background": "light",
      "tags": []
     },
     "output_type": "display_data"
    }
   ],
   "source": [
    "from IPython.display import clear_output\n",
    "import numpy as np\n",
    "\n",
    "network = MLP([100, 200, 100, 10], 28*28)\n",
    "train_log = []\n",
    "val_log = []\n",
    "\n",
    "#Αυτά πρέπει να τρέχουν αφού έχετε φτιάξει σωστά τον κώδικα της MLP\n",
    "for epoch in range(25):\n",
    "     network.fit(x_train,y_train)\n",
    "    \n",
    "     train_log.append(np.mean(network.predict(x_train)==y_train))\n",
    "     val_log.append(np.mean(network.predict(x_test)==y_test))\n",
    "    \n",
    "     clear_output()\n",
    "     print(\"Epoch\",epoch)\n",
    "     print(\"Train accuracy:\",train_log[-1])\n",
    "     print(\"Val accuracy:\",val_log[-1])\n",
    "     plt.plot(train_log,label='train accuracy')\n",
    "     plt.plot(val_log,label='val accuracy')\n",
    "     plt.legend(loc='best')\n",
    "     plt.grid()\n",
    "     plt.show()\n",
    "\n",
    "y_pred = network.predict(x_test)\n",
    "\n",
    "eval = Evaluate(y_test, y_pred, x_test)\n",
    "eval.get_evaluation_report()"
   ]
  },
  {
   "cell_type": "markdown",
   "metadata": {
    "id": "Dnwo5tyJfuA-"
   },
   "source": [
    "##Έτοιμο Multi-Layer Perceptron"
   ]
  },
  {
   "cell_type": "code",
   "execution_count": null,
   "metadata": {
    "colab": {
     "base_uri": "https://localhost:8080/",
     "height": 914
    },
    "id": "Eh90-KHofWUX",
    "outputId": "35054469-966f-4ed4-9579-2aeaa2bb347f"
   },
   "outputs": [
    {
     "name": "stderr",
     "output_type": "stream",
     "text": [
      "/usr/local/lib/python3.6/dist-packages/sklearn/neural_network/_multilayer_perceptron.py:571: ConvergenceWarning: Stochastic Optimizer: Maximum iterations (25) reached and the optimization hasn't converged yet.\n",
      "  % self.max_iter, ConvergenceWarning)\n"
     ]
    },
    {
     "name": "stdout",
     "output_type": "stream",
     "text": [
      "precision : 0.9674121749328176\n",
      "recall : 0.9671022741195809\n",
      "f1 : 0.9671582122271513\n",
      "accuracy : 0.9675\n",
      "Confusion matrix: \n",
      "[[ 965    1    1    1    2    4    1    2    2    1]\n",
      " [   0 1122    3    1    0    1    2    4    2    0]\n",
      " [   4    6  994   10    5    1    2    8    2    0]\n",
      " [   0    1    1  983    0   11    0    8    5    1]\n",
      " [   3    0    1    0  952    0    4    2    3   17]\n",
      " [   4    0    2   12    2  858    6    1    4    3]\n",
      " [   7    3    2    1    7    7  930    1    0    0]\n",
      " [   0    4   10    2    1    0    0 1004    1    6]\n",
      " [   6    2    7   21    5    9    4   12  905    3]\n",
      " [   4    4    0    8    8    7    1    9    6  962]]\n",
      "Some images with wrong predictions\n"
     ]
    },
    {
     "data": {
      "image/png": "[encoded data removed]",
      "text/plain": [
       "<Figure size 720x720 with 20 Axes>"
      ]
     },
     "metadata": {
      "needs_background": "light",
      "tags": []
     },
     "output_type": "display_data"
    }
   ],
   "source": [
    "from sklearn.neural_network import MLPClassifier\n",
    "\n",
    "epochs = 25\n",
    "mlp = MLPClassifier(hidden_layer_sizes=(100, 200, 100), max_iter = epochs)\n",
    "\n",
    "mlp.fit(x_train,y_train)\n",
    "\n",
    "y_pred = mlp.predict(x_test)\n",
    "eval = Evaluate(y_test, y_pred, x_test)\n",
    "eval.get_evaluation_report()"
   ]
  },
  {
   "cell_type": "markdown",
   "metadata": {
    "id": "JeKmO4y1gIsp"
   },
   "source": [
    "##Σύγκριση υλοποιήσεων"
   ]
  },
  {
   "cell_type": "markdown",
   "metadata": {
    "id": "lKCtJIcfgTD1"
   },
   "source": [
    "Όπως φάνηκε παραπάνω, ο έτοιμος Multi-Layer Perceptron εμφανίζει υψηλότερες επιδόσεις σε precision, recall, f1 από τον δικό μας. "
   ]
  },
  {
   "cell_type": "markdown",
   "metadata": {
    "id": "2eiuHVwLgQib"
   },
   "source": [
    "###Αξιολόγηση- Συμπεράσματα"
   ]
  },
  {
   "cell_type": "markdown",
   "metadata": {
    "id": "d8MRX1zA_MDj"
   },
   "source": [
    "Συμπερασματικά, έχοντας υλοποιήσει και τους τρεις ταξινομητές (KNN, Naive Bayes, MLP) καταλήγουμε στο ότι οι έτοιμοι ταξινομητές knn & Multi-Layer Perceptron εμφάνιζαν υψηλότερα precision, recall\n",
    "και f1. Στην περίπτωση του knn, ο δικός μας ταξινομητής, για ευκλίδεια απόσταση, ταυτίστηκε με τον έτοιμο. Τέλος, αξιοσημείωτο γεγονός ήταν τα υψηλότερα  precision, recall\n",
    "και f1, για cosine απόσταση και το ότι τα τρία αυτά χαρακτηριστικά ήταν υψηλότερα για το δικό μας Naive Bayes συγκριτικά με τον έτοιμο."
   ]
  }
 ],
 "metadata": {
  "colab": {
   "collapsed_sections": [],
   "name": "Untitled10.ipynb",
   "provenance": []
  },
  "kernelspec": {
   "display_name": "Python 3",
   "language": "python",
   "name": "python3"
  },
  "language_info": {
   "codemirror_mode": {
    "name": "ipython",
    "version": 3
   },
   "file_extension": ".py",
   "mimetype": "text/x-python",
   "name": "python",
   "nbconvert_exporter": "python",
   "pygments_lexer": "ipython3",
   "version": "3.9.0"
  }
 },
 "nbformat": 4,
 "nbformat_minor": 1
}
